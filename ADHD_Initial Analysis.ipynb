{
 "cells": [
  {
   "cell_type": "code",
   "execution_count": 1,
   "metadata": {},
   "outputs": [],
   "source": [
    "import numpy as np\n",
    "import pandas as pd"
   ]
  },
  {
   "cell_type": "markdown",
   "metadata": {},
   "source": [
    "# Data Processing"
   ]
  },
  {
   "cell_type": "code",
   "execution_count": 3,
   "metadata": {},
   "outputs": [],
   "source": [
    "df=pd.read_excel(r'/Users/vineelaaradhyula/Documents/ADHD Project/New_ADHD.xlsx')"
   ]
  },
  {
   "cell_type": "code",
   "execution_count": 4,
   "metadata": {},
   "outputs": [
    {
     "name": "stdout",
     "output_type": "stream",
     "text": [
      "(416, 23)\n",
      "   scandir_id location  gender    age handedness  \\\n",
      "0     2371032      KKI  Female  10.73      Right   \n",
      "1     2026113      KKI  Female  12.99      Right   \n",
      "2     3434578      KKI  Female   8.12      Right   \n",
      "3     8628223      KKI  Female  10.81      Right   \n",
      "4     1623716      KKI  Female  12.65      Right   \n",
      "\n",
      "                              dx   secondary_dx adhd_measure  adhd_index  \\\n",
      "0  Typically Developing Children            NaN      CPRS-LV        47.0   \n",
      "1                  ADHD-Combined            NaN      CPRS-LV        90.0   \n",
      "2  Typically Developing Children            NaN      CPRS-LV        42.0   \n",
      "3  Typically Developing Children  Simple phobia      CPRS-LV        42.0   \n",
      "4                  ADHD-Combined            NaN      CPRS-LV        87.0   \n",
      "\n",
      "   inattentive  ...  performance_iq full2_iq  full4_iq        med_status  \\\n",
      "0           55  ...             119      NaN       122  Medication Naïve   \n",
      "1           89  ...             108      NaN       106  Medication Naïve   \n",
      "2           42  ...              98      NaN        89  Medication Naïve   \n",
      "3           49  ...              86      NaN        97  Medication Naïve   \n",
      "4           90  ...              88      NaN        89  Medication Naïve   \n",
      "\n",
      "   qc_rest_1  qc_rest_2 qc_rest_3 qc_rest_4 qc_anatomical_1 qc_anatomical_2  \n",
      "0       Pass        NaN       NaN       NaN            Pass             NaN  \n",
      "1       Pass        NaN       NaN       NaN            Pass             NaN  \n",
      "2       Pass        NaN       NaN       NaN            Pass             NaN  \n",
      "3       Pass        NaN       NaN       NaN            Pass             NaN  \n",
      "4       Pass        NaN       NaN       NaN            Pass             NaN  \n",
      "\n",
      "[5 rows x 23 columns]\n"
     ]
    }
   ],
   "source": [
    "print(df.shape)\n",
    "print(df.head(5))"
   ]
  },
  {
   "cell_type": "code",
   "execution_count": 4,
   "metadata": {},
   "outputs": [
    {
     "data": {
      "text/html": [
       "<div>\n",
       "<style scoped>\n",
       "    .dataframe tbody tr th:only-of-type {\n",
       "        vertical-align: middle;\n",
       "    }\n",
       "\n",
       "    .dataframe tbody tr th {\n",
       "        vertical-align: top;\n",
       "    }\n",
       "\n",
       "    .dataframe thead th {\n",
       "        text-align: right;\n",
       "    }\n",
       "</style>\n",
       "<table border=\"1\" class=\"dataframe\">\n",
       "  <thead>\n",
       "    <tr style=\"text-align: right;\">\n",
       "      <th></th>\n",
       "      <th>scandir_id</th>\n",
       "      <th>age</th>\n",
       "      <th>adhd_index</th>\n",
       "      <th>inattentive</th>\n",
       "      <th>hyper_impulsive</th>\n",
       "      <th>verbal_iq</th>\n",
       "      <th>performance_iq</th>\n",
       "      <th>full2_iq</th>\n",
       "      <th>full4_iq</th>\n",
       "    </tr>\n",
       "  </thead>\n",
       "  <tbody>\n",
       "    <tr>\n",
       "      <th>count</th>\n",
       "      <td>4.160000e+02</td>\n",
       "      <td>416.000000</td>\n",
       "      <td>290.000000</td>\n",
       "      <td>416.000000</td>\n",
       "      <td>416.000000</td>\n",
       "      <td>416.000000</td>\n",
       "      <td>416.000000</td>\n",
       "      <td>47.000000</td>\n",
       "      <td>416.000000</td>\n",
       "    </tr>\n",
       "    <tr>\n",
       "      <th>mean</th>\n",
       "      <td>2.026904e+06</td>\n",
       "      <td>11.106058</td>\n",
       "      <td>58.031034</td>\n",
       "      <td>51.483173</td>\n",
       "      <td>50.939904</td>\n",
       "      <td>89.014423</td>\n",
       "      <td>86.617788</td>\n",
       "      <td>111.829787</td>\n",
       "      <td>109.689904</td>\n",
       "    </tr>\n",
       "    <tr>\n",
       "      <th>std</th>\n",
       "      <td>2.284620e+06</td>\n",
       "      <td>2.903479</td>\n",
       "      <td>15.053391</td>\n",
       "      <td>23.087048</td>\n",
       "      <td>22.844340</td>\n",
       "      <td>44.939797</td>\n",
       "      <td>43.800485</td>\n",
       "      <td>9.680368</td>\n",
       "      <td>13.590837</td>\n",
       "    </tr>\n",
       "    <tr>\n",
       "      <th>min</th>\n",
       "      <td>1.000100e+04</td>\n",
       "      <td>7.170000</td>\n",
       "      <td>40.000000</td>\n",
       "      <td>0.000000</td>\n",
       "      <td>0.000000</td>\n",
       "      <td>0.000000</td>\n",
       "      <td>0.000000</td>\n",
       "      <td>83.000000</td>\n",
       "      <td>73.000000</td>\n",
       "    </tr>\n",
       "    <tr>\n",
       "      <th>25%</th>\n",
       "      <td>1.011275e+04</td>\n",
       "      <td>8.750000</td>\n",
       "      <td>43.000000</td>\n",
       "      <td>42.000000</td>\n",
       "      <td>43.000000</td>\n",
       "      <td>88.750000</td>\n",
       "      <td>87.750000</td>\n",
       "      <td>106.500000</td>\n",
       "      <td>100.000000</td>\n",
       "    </tr>\n",
       "    <tr>\n",
       "      <th>50%</th>\n",
       "      <td>1.682704e+06</td>\n",
       "      <td>10.510000</td>\n",
       "      <td>56.000000</td>\n",
       "      <td>51.000000</td>\n",
       "      <td>49.000000</td>\n",
       "      <td>106.000000</td>\n",
       "      <td>103.000000</td>\n",
       "      <td>110.000000</td>\n",
       "      <td>109.000000</td>\n",
       "    </tr>\n",
       "    <tr>\n",
       "      <th>75%</th>\n",
       "      <td>3.164980e+06</td>\n",
       "      <td>12.650000</td>\n",
       "      <td>71.000000</td>\n",
       "      <td>69.000000</td>\n",
       "      <td>66.250000</td>\n",
       "      <td>116.000000</td>\n",
       "      <td>115.000000</td>\n",
       "      <td>118.000000</td>\n",
       "      <td>120.000000</td>\n",
       "    </tr>\n",
       "    <tr>\n",
       "      <th>max</th>\n",
       "      <td>9.922944e+06</td>\n",
       "      <td>20.450000</td>\n",
       "      <td>99.000000</td>\n",
       "      <td>90.000000</td>\n",
       "      <td>90.000000</td>\n",
       "      <td>146.000000</td>\n",
       "      <td>137.000000</td>\n",
       "      <td>139.000000</td>\n",
       "      <td>144.000000</td>\n",
       "    </tr>\n",
       "  </tbody>\n",
       "</table>\n",
       "</div>"
      ],
      "text/plain": [
       "         scandir_id         age  adhd_index  inattentive  hyper_impulsive  \\\n",
       "count  4.160000e+02  416.000000  290.000000   416.000000       416.000000   \n",
       "mean   2.026904e+06   11.106058   58.031034    51.483173        50.939904   \n",
       "std    2.284620e+06    2.903479   15.053391    23.087048        22.844340   \n",
       "min    1.000100e+04    7.170000   40.000000     0.000000         0.000000   \n",
       "25%    1.011275e+04    8.750000   43.000000    42.000000        43.000000   \n",
       "50%    1.682704e+06   10.510000   56.000000    51.000000        49.000000   \n",
       "75%    3.164980e+06   12.650000   71.000000    69.000000        66.250000   \n",
       "max    9.922944e+06   20.450000   99.000000    90.000000        90.000000   \n",
       "\n",
       "        verbal_iq  performance_iq    full2_iq    full4_iq  \n",
       "count  416.000000      416.000000   47.000000  416.000000  \n",
       "mean    89.014423       86.617788  111.829787  109.689904  \n",
       "std     44.939797       43.800485    9.680368   13.590837  \n",
       "min      0.000000        0.000000   83.000000   73.000000  \n",
       "25%     88.750000       87.750000  106.500000  100.000000  \n",
       "50%    106.000000      103.000000  110.000000  109.000000  \n",
       "75%    116.000000      115.000000  118.000000  120.000000  \n",
       "max    146.000000      137.000000  139.000000  144.000000  "
      ]
     },
     "execution_count": 4,
     "metadata": {},
     "output_type": "execute_result"
    }
   ],
   "source": [
    "# Summary\n",
    "df.describe()"
   ]
  },
  {
   "cell_type": "code",
   "execution_count": 5,
   "metadata": {},
   "outputs": [
    {
     "name": "stdout",
     "output_type": "stream",
     "text": [
      "<class 'pandas.core.frame.DataFrame'>\n",
      "RangeIndex: 416 entries, 0 to 415\n",
      "Data columns (total 23 columns):\n",
      " #   Column           Non-Null Count  Dtype  \n",
      "---  ------           --------------  -----  \n",
      " 0   scandir_id       416 non-null    int64  \n",
      " 1   location         416 non-null    object \n",
      " 2   gender           416 non-null    object \n",
      " 3   age              416 non-null    float64\n",
      " 4   handedness       415 non-null    object \n",
      " 5   dx               416 non-null    object \n",
      " 6   secondary_dx     75 non-null     object \n",
      " 7   adhd_measure     369 non-null    object \n",
      " 8   adhd_index       290 non-null    float64\n",
      " 9   inattentive      416 non-null    int64  \n",
      " 10  hyper_impulsive  416 non-null    int64  \n",
      " 11  iq_measure       416 non-null    object \n",
      " 12  verbal_iq        416 non-null    int64  \n",
      " 13  performance_iq   416 non-null    int64  \n",
      " 14  full2_iq         47 non-null     float64\n",
      " 15  full4_iq         416 non-null    int64  \n",
      " 16  med_status       369 non-null    object \n",
      " 17  qc_rest_1        410 non-null    object \n",
      " 18  qc_rest_2        254 non-null    object \n",
      " 19  qc_rest_3        79 non-null     object \n",
      " 20  qc_rest_4        1 non-null      object \n",
      " 21  qc_anatomical_1  415 non-null    object \n",
      " 22  qc_anatomical_2  130 non-null    object \n",
      "dtypes: float64(3), int64(6), object(14)\n",
      "memory usage: 74.9+ KB\n"
     ]
    }
   ],
   "source": [
    "# Data info about numeric or character and missing values and not missing values\n",
    "df.info()"
   ]
  },
  {
   "cell_type": "code",
   "execution_count": 6,
   "metadata": {},
   "outputs": [
    {
     "name": "stdout",
     "output_type": "stream",
     "text": [
      "scandir_id           0\n",
      "location             0\n",
      "gender               0\n",
      "age                  0\n",
      "handedness           1\n",
      "dx                   0\n",
      "secondary_dx       341\n",
      "adhd_measure        47\n",
      "adhd_index         126\n",
      "inattentive          0\n",
      "hyper_impulsive      0\n",
      "iq_measure           0\n",
      "verbal_iq            0\n",
      "performance_iq       0\n",
      "full2_iq           369\n",
      "full4_iq             0\n",
      "med_status          47\n",
      "qc_rest_1            6\n",
      "qc_rest_2          162\n",
      "qc_rest_3          337\n",
      "qc_rest_4          415\n",
      "qc_anatomical_1      1\n",
      "qc_anatomical_2    286\n",
      "dtype: int64\n"
     ]
    }
   ],
   "source": [
    "# Count of missing values\n",
    "print(df.isnull().sum())"
   ]
  },
  {
   "cell_type": "code",
   "execution_count": 7,
   "metadata": {},
   "outputs": [],
   "source": [
    "df2 = pd.DataFrame(df,columns=['handedness'])"
   ]
  },
  {
   "cell_type": "code",
   "execution_count": 8,
   "metadata": {},
   "outputs": [
    {
     "data": {
      "text/plain": [
       "array(['Right', 'Left', 'Ambidextrous', 0.83, 0.57, -999, 0.5, 0.21, 0.73,\n",
       "       0.26, 0.67, 0.91, 0.62, 0.47, 0.31, 0.39, 0.65, 0.52, 0.71, 0.19,\n",
       "       0.29, 0.13, 0.27, 0.55, 0.58, 0.11, 0.86, 0.6, 0.82, 0.64, 0.68,\n",
       "       0.45, 0.54, 0.77, 0.75, 0.95, 0.44, 0.46, 0.2, 0.16, 0.24, 0.76,\n",
       "       0.33, 0.8, 0.4, 0.69, 0.05, 0.74, 0.42, 0.79, 0.22, 0.43, 0.28,\n",
       "       0.78, 0.38, -0.2, -0.11, 0.17, -0.04, 0.81, 0.9, nan, 0.56, 0.92,\n",
       "       0.48, 0.63, 0.36, 0.04], dtype=object)"
      ]
     },
     "execution_count": 8,
     "metadata": {},
     "output_type": "execute_result"
    }
   ],
   "source": [
    "df2.handedness.unique()"
   ]
  },
  {
   "cell_type": "code",
   "execution_count": 9,
   "metadata": {},
   "outputs": [],
   "source": [
    "# Mean\n",
    "df['adhd_index']=df['adhd_index'].fillna(df['adhd_index'].mean())\n",
    "df['full2_iq']=df['full2_iq'].fillna(df['full2_iq'].mean())"
   ]
  },
  {
   "cell_type": "code",
   "execution_count": 10,
   "metadata": {},
   "outputs": [
    {
     "name": "stdout",
     "output_type": "stream",
     "text": [
      "scandir_id           0\n",
      "location             0\n",
      "gender               0\n",
      "age                  0\n",
      "handedness           1\n",
      "dx                   0\n",
      "secondary_dx       341\n",
      "adhd_measure        47\n",
      "adhd_index           0\n",
      "inattentive          0\n",
      "hyper_impulsive      0\n",
      "iq_measure           0\n",
      "verbal_iq            0\n",
      "performance_iq       0\n",
      "full2_iq             0\n",
      "full4_iq             0\n",
      "med_status          47\n",
      "qc_rest_1            6\n",
      "qc_rest_2          162\n",
      "qc_rest_3          337\n",
      "qc_rest_4          415\n",
      "qc_anatomical_1      1\n",
      "qc_anatomical_2    286\n",
      "dtype: int64\n"
     ]
    }
   ],
   "source": [
    "print(df.isnull().sum())"
   ]
  },
  {
   "cell_type": "code",
   "execution_count": 11,
   "metadata": {},
   "outputs": [],
   "source": [
    "# Max/mode \n",
    "df['med_status'].fillna(df['med_status'].value_counts().index[0],inplace=True)\n",
    "df['qc_rest_1'].fillna(df['qc_rest_1'].value_counts().index[0],inplace=True)\n",
    "df['qc_rest_2'].fillna(df['qc_rest_2'].value_counts().index[0],inplace=True)\n",
    "df['qc_rest_3'].fillna(df['qc_rest_3'].value_counts().index[0],inplace=True)\n",
    "df['qc_anatomical_1'].fillna(df['qc_anatomical_1'].value_counts().index[0],inplace=True)\n",
    "df['qc_anatomical_2'].fillna(df['qc_anatomical_2'].value_counts().index[0],inplace=True)"
   ]
  },
  {
   "cell_type": "code",
   "execution_count": 12,
   "metadata": {},
   "outputs": [
    {
     "name": "stdout",
     "output_type": "stream",
     "text": [
      "scandir_id           0\n",
      "location             0\n",
      "gender               0\n",
      "age                  0\n",
      "handedness           1\n",
      "dx                   0\n",
      "secondary_dx       341\n",
      "adhd_measure        47\n",
      "adhd_index           0\n",
      "inattentive          0\n",
      "hyper_impulsive      0\n",
      "iq_measure           0\n",
      "verbal_iq            0\n",
      "performance_iq       0\n",
      "full2_iq             0\n",
      "full4_iq             0\n",
      "med_status           0\n",
      "qc_rest_1            0\n",
      "qc_rest_2            0\n",
      "qc_rest_3            0\n",
      "qc_rest_4          415\n",
      "qc_anatomical_1      0\n",
      "qc_anatomical_2      0\n",
      "dtype: int64\n"
     ]
    }
   ],
   "source": [
    "print(df.isnull().sum())"
   ]
  },
  {
   "cell_type": "code",
   "execution_count": 13,
   "metadata": {},
   "outputs": [],
   "source": [
    "df = pd.get_dummies(df, columns=['gender','handedness','adhd_measure'])\n"
   ]
  },
  {
   "cell_type": "code",
   "execution_count": 14,
   "metadata": {},
   "outputs": [
    {
     "name": "stdout",
     "output_type": "stream",
     "text": [
      "<class 'pandas.core.frame.DataFrame'>\n",
      "RangeIndex: 416 entries, 0 to 415\n",
      "Data columns (total 91 columns):\n",
      " #   Column                         Non-Null Count  Dtype  \n",
      "---  ------                         --------------  -----  \n",
      " 0   scandir_id                     416 non-null    int64  \n",
      " 1   location                       416 non-null    object \n",
      " 2   age                            416 non-null    float64\n",
      " 3   dx                             416 non-null    object \n",
      " 4   secondary_dx                   75 non-null     object \n",
      " 5   adhd_index                     416 non-null    float64\n",
      " 6   inattentive                    416 non-null    int64  \n",
      " 7   hyper_impulsive                416 non-null    int64  \n",
      " 8   iq_measure                     416 non-null    object \n",
      " 9   verbal_iq                      416 non-null    int64  \n",
      " 10  performance_iq                 416 non-null    int64  \n",
      " 11  full2_iq                       416 non-null    float64\n",
      " 12  full4_iq                       416 non-null    int64  \n",
      " 13  med_status                     416 non-null    object \n",
      " 14  qc_rest_1                      416 non-null    object \n",
      " 15  qc_rest_2                      416 non-null    object \n",
      " 16  qc_rest_3                      416 non-null    object \n",
      " 17  qc_rest_4                      1 non-null      object \n",
      " 18  qc_anatomical_1                416 non-null    object \n",
      " 19  qc_anatomical_2                416 non-null    object \n",
      " 20  gender_Female                  416 non-null    uint8  \n",
      " 21  gender_Male                    416 non-null    uint8  \n",
      " 22  handedness_-999                416 non-null    uint8  \n",
      " 23  handedness_-0.2                416 non-null    uint8  \n",
      " 24  handedness_-0.11               416 non-null    uint8  \n",
      " 25  handedness_-0.04               416 non-null    uint8  \n",
      " 26  handedness_0.04                416 non-null    uint8  \n",
      " 27  handedness_0.05                416 non-null    uint8  \n",
      " 28  handedness_0.11                416 non-null    uint8  \n",
      " 29  handedness_0.13                416 non-null    uint8  \n",
      " 30  handedness_0.16                416 non-null    uint8  \n",
      " 31  handedness_0.17                416 non-null    uint8  \n",
      " 32  handedness_0.19                416 non-null    uint8  \n",
      " 33  handedness_0.2                 416 non-null    uint8  \n",
      " 34  handedness_0.21                416 non-null    uint8  \n",
      " 35  handedness_0.22                416 non-null    uint8  \n",
      " 36  handedness_0.24                416 non-null    uint8  \n",
      " 37  handedness_0.26                416 non-null    uint8  \n",
      " 38  handedness_0.27                416 non-null    uint8  \n",
      " 39  handedness_0.28                416 non-null    uint8  \n",
      " 40  handedness_0.29                416 non-null    uint8  \n",
      " 41  handedness_0.31                416 non-null    uint8  \n",
      " 42  handedness_0.33                416 non-null    uint8  \n",
      " 43  handedness_0.36                416 non-null    uint8  \n",
      " 44  handedness_0.38                416 non-null    uint8  \n",
      " 45  handedness_0.39                416 non-null    uint8  \n",
      " 46  handedness_0.4                 416 non-null    uint8  \n",
      " 47  handedness_0.42                416 non-null    uint8  \n",
      " 48  handedness_0.43                416 non-null    uint8  \n",
      " 49  handedness_0.44                416 non-null    uint8  \n",
      " 50  handedness_0.45                416 non-null    uint8  \n",
      " 51  handedness_0.46                416 non-null    uint8  \n",
      " 52  handedness_0.47                416 non-null    uint8  \n",
      " 53  handedness_0.48                416 non-null    uint8  \n",
      " 54  handedness_0.5                 416 non-null    uint8  \n",
      " 55  handedness_0.52                416 non-null    uint8  \n",
      " 56  handedness_0.54                416 non-null    uint8  \n",
      " 57  handedness_0.55                416 non-null    uint8  \n",
      " 58  handedness_0.56                416 non-null    uint8  \n",
      " 59  handedness_0.57                416 non-null    uint8  \n",
      " 60  handedness_0.58                416 non-null    uint8  \n",
      " 61  handedness_0.6                 416 non-null    uint8  \n",
      " 62  handedness_0.62                416 non-null    uint8  \n",
      " 63  handedness_0.63                416 non-null    uint8  \n",
      " 64  handedness_0.64                416 non-null    uint8  \n",
      " 65  handedness_0.65                416 non-null    uint8  \n",
      " 66  handedness_0.67                416 non-null    uint8  \n",
      " 67  handedness_0.68                416 non-null    uint8  \n",
      " 68  handedness_0.69                416 non-null    uint8  \n",
      " 69  handedness_0.71                416 non-null    uint8  \n",
      " 70  handedness_0.73                416 non-null    uint8  \n",
      " 71  handedness_0.74                416 non-null    uint8  \n",
      " 72  handedness_0.75                416 non-null    uint8  \n",
      " 73  handedness_0.76                416 non-null    uint8  \n",
      " 74  handedness_0.77                416 non-null    uint8  \n",
      " 75  handedness_0.78                416 non-null    uint8  \n",
      " 76  handedness_0.79                416 non-null    uint8  \n",
      " 77  handedness_0.8                 416 non-null    uint8  \n",
      " 78  handedness_0.81                416 non-null    uint8  \n",
      " 79  handedness_0.82                416 non-null    uint8  \n",
      " 80  handedness_0.83                416 non-null    uint8  \n",
      " 81  handedness_0.86                416 non-null    uint8  \n",
      " 82  handedness_0.9                 416 non-null    uint8  \n",
      " 83  handedness_0.91                416 non-null    uint8  \n",
      " 84  handedness_0.92                416 non-null    uint8  \n",
      " 85  handedness_0.95                416 non-null    uint8  \n",
      " 86  handedness_Ambidextrous        416 non-null    uint8  \n",
      " 87  handedness_Left                416 non-null    uint8  \n",
      " 88  handedness_Right               416 non-null    uint8  \n",
      " 89  adhd_measure_ CRS-3rd Edition  416 non-null    uint8  \n",
      " 90  adhd_measure_CPRS-LV           416 non-null    uint8  \n",
      "dtypes: float64(3), int64(6), object(11), uint8(71)\n",
      "memory usage: 94.0+ KB\n"
     ]
    }
   ],
   "source": [
    "df.info()"
   ]
  },
  {
   "cell_type": "code",
   "execution_count": 15,
   "metadata": {},
   "outputs": [],
   "source": [
    "df.loc[df['location'] == 'NYU', 'location'] = 4\n",
    "df.loc[df['location'] == 'KKI', 'location'] = 3\n",
    "df.loc[df['location'] == 'OHSU', 'location'] = 2\n",
    "df.loc[df['location'] == 'Pittsburgh', 'location'] = 1\n",
    "#Targte -dx\n",
    "df.loc[df['dx'] == 'Typically Developing Children', 'dx'] = 0\n",
    "df.loc[df['dx'] == 'ADHD-Combined', 'dx'] = 1\n",
    "df.loc[df['dx'] == 'ADHD-Hyperactive/Impulsive', 'dx'] = 2\n",
    "df.loc[df['dx'] == 'ADHD-Inattentive', 'dx'] = 3\n",
    "#Med status and qc\n",
    "df['med_status'] = np.where(df['med_status']=='Medication Naïve', 1, 0)\n",
    "df['qc_rest_1'] = np.where(df['qc_rest_1']=='Pass', 1, 0)\n",
    "df['qc_rest_2'] = np.where(df['qc_rest_2']=='Pass', 1, 0)\n",
    "df['qc_rest_3'] = np.where(df['qc_rest_3']=='Pass', 1, 0)\n",
    "df['qc_anatomical_1'] = np.where(df['qc_anatomical_1']=='Pass', 1, 0)\n",
    "df['qc_anatomical_2'] = np.where(df['qc_anatomical_2']=='Pass', 1, 0)\n",
    "df['iq_measure'] = np.where(df['iq_measure']=='WASI', 1, 0)"
   ]
  },
  {
   "cell_type": "code",
   "execution_count": 16,
   "metadata": {},
   "outputs": [],
   "source": [
    "#Drop columns which are not useful for the model \n",
    "df.drop(['qc_rest_4','handedness_-999','handedness_-0.2','handedness_-0.11','handedness_-0.04','handedness_0.04',\n",
    "         'handedness_0.05','handedness_0.11','handedness_0.13','handedness_0.16','handedness_0.17','handedness_0.19',\n",
    "         'handedness_0.2','handedness_0.21','handedness_0.22','handedness_0.24','handedness_0.26','handedness_0.27',\n",
    "         'handedness_0.28','handedness_0.29','handedness_0.31','handedness_0.33','handedness_0.36','handedness_0.38',\n",
    "         'handedness_0.39','handedness_0.4','handedness_0.42','handedness_0.43','handedness_0.44','handedness_0.45',\n",
    "         'handedness_0.46','handedness_0.47','handedness_0.48','handedness_0.5','handedness_0.52',\n",
    "         'handedness_0.54','handedness_0.55','handedness_0.56','handedness_0.57','handedness_0.58','handedness_0.6',\n",
    "         'handedness_0.62','handedness_0.63','handedness_0.64','handedness_0.65','handedness_0.67','handedness_0.68',\n",
    "         'handedness_0.69','handedness_0.71','handedness_0.73','handedness_0.74','handedness_0.75','handedness_0.76',\n",
    "         'handedness_0.77','handedness_0.78','handedness_0.79','handedness_0.8','handedness_0.81','handedness_0.82',\n",
    "         'handedness_0.83','handedness_0.86','handedness_0.9','handedness_0.91','handedness_0.92','handedness_0.95',\n",
    "         'handedness_Ambidextrous','secondary_dx'], axis=1, inplace=True)"
   ]
  },
  {
   "cell_type": "code",
   "execution_count": 19,
   "metadata": {},
   "outputs": [
    {
     "data": {
      "text/html": [
       "<div>\n",
       "<style scoped>\n",
       "    .dataframe tbody tr th:only-of-type {\n",
       "        vertical-align: middle;\n",
       "    }\n",
       "\n",
       "    .dataframe tbody tr th {\n",
       "        vertical-align: top;\n",
       "    }\n",
       "\n",
       "    .dataframe thead th {\n",
       "        text-align: right;\n",
       "    }\n",
       "</style>\n",
       "<table border=\"1\" class=\"dataframe\">\n",
       "  <thead>\n",
       "    <tr style=\"text-align: right;\">\n",
       "      <th></th>\n",
       "      <th>scandir_id</th>\n",
       "      <th>age</th>\n",
       "      <th>adhd_index</th>\n",
       "      <th>inattentive</th>\n",
       "      <th>hyper_impulsive</th>\n",
       "      <th>iq_measure</th>\n",
       "      <th>verbal_iq</th>\n",
       "      <th>performance_iq</th>\n",
       "      <th>full2_iq</th>\n",
       "      <th>full4_iq</th>\n",
       "      <th>...</th>\n",
       "      <th>qc_rest_2</th>\n",
       "      <th>qc_rest_3</th>\n",
       "      <th>qc_anatomical_1</th>\n",
       "      <th>qc_anatomical_2</th>\n",
       "      <th>gender_Female</th>\n",
       "      <th>gender_Male</th>\n",
       "      <th>handedness_Left</th>\n",
       "      <th>handedness_Right</th>\n",
       "      <th>adhd_measure_ CRS-3rd Edition</th>\n",
       "      <th>adhd_measure_CPRS-LV</th>\n",
       "    </tr>\n",
       "  </thead>\n",
       "  <tbody>\n",
       "    <tr>\n",
       "      <th>count</th>\n",
       "      <td>4.160000e+02</td>\n",
       "      <td>416.000000</td>\n",
       "      <td>416.000000</td>\n",
       "      <td>416.000000</td>\n",
       "      <td>416.000000</td>\n",
       "      <td>416.000000</td>\n",
       "      <td>416.000000</td>\n",
       "      <td>416.000000</td>\n",
       "      <td>416.000000</td>\n",
       "      <td>416.000000</td>\n",
       "      <td>...</td>\n",
       "      <td>416.000000</td>\n",
       "      <td>416.000000</td>\n",
       "      <td>416.000000</td>\n",
       "      <td>416.000000</td>\n",
       "      <td>416.000000</td>\n",
       "      <td>416.000000</td>\n",
       "      <td>416.000000</td>\n",
       "      <td>416.000000</td>\n",
       "      <td>416.000000</td>\n",
       "      <td>416.000000</td>\n",
       "    </tr>\n",
       "    <tr>\n",
       "      <th>mean</th>\n",
       "      <td>2.026904e+06</td>\n",
       "      <td>11.106058</td>\n",
       "      <td>58.031034</td>\n",
       "      <td>51.483173</td>\n",
       "      <td>50.939904</td>\n",
       "      <td>0.807692</td>\n",
       "      <td>89.014423</td>\n",
       "      <td>86.617788</td>\n",
       "      <td>111.829787</td>\n",
       "      <td>109.689904</td>\n",
       "      <td>...</td>\n",
       "      <td>0.817308</td>\n",
       "      <td>0.944712</td>\n",
       "      <td>0.932692</td>\n",
       "      <td>0.975962</td>\n",
       "      <td>0.396635</td>\n",
       "      <td>0.603365</td>\n",
       "      <td>0.021635</td>\n",
       "      <td>0.526442</td>\n",
       "      <td>0.189904</td>\n",
       "      <td>0.697115</td>\n",
       "    </tr>\n",
       "    <tr>\n",
       "      <th>std</th>\n",
       "      <td>2.284620e+06</td>\n",
       "      <td>2.903479</td>\n",
       "      <td>12.562012</td>\n",
       "      <td>23.087048</td>\n",
       "      <td>22.844340</td>\n",
       "      <td>0.394588</td>\n",
       "      <td>44.939797</td>\n",
       "      <td>43.800485</td>\n",
       "      <td>3.222899</td>\n",
       "      <td>13.590837</td>\n",
       "      <td>...</td>\n",
       "      <td>0.386879</td>\n",
       "      <td>0.228818</td>\n",
       "      <td>0.250856</td>\n",
       "      <td>0.153353</td>\n",
       "      <td>0.489788</td>\n",
       "      <td>0.489788</td>\n",
       "      <td>0.145662</td>\n",
       "      <td>0.499902</td>\n",
       "      <td>0.392697</td>\n",
       "      <td>0.460059</td>\n",
       "    </tr>\n",
       "    <tr>\n",
       "      <th>min</th>\n",
       "      <td>1.000100e+04</td>\n",
       "      <td>7.170000</td>\n",
       "      <td>40.000000</td>\n",
       "      <td>0.000000</td>\n",
       "      <td>0.000000</td>\n",
       "      <td>0.000000</td>\n",
       "      <td>0.000000</td>\n",
       "      <td>0.000000</td>\n",
       "      <td>83.000000</td>\n",
       "      <td>73.000000</td>\n",
       "      <td>...</td>\n",
       "      <td>0.000000</td>\n",
       "      <td>0.000000</td>\n",
       "      <td>0.000000</td>\n",
       "      <td>0.000000</td>\n",
       "      <td>0.000000</td>\n",
       "      <td>0.000000</td>\n",
       "      <td>0.000000</td>\n",
       "      <td>0.000000</td>\n",
       "      <td>0.000000</td>\n",
       "      <td>0.000000</td>\n",
       "    </tr>\n",
       "    <tr>\n",
       "      <th>25%</th>\n",
       "      <td>1.011275e+04</td>\n",
       "      <td>8.750000</td>\n",
       "      <td>46.000000</td>\n",
       "      <td>42.000000</td>\n",
       "      <td>43.000000</td>\n",
       "      <td>1.000000</td>\n",
       "      <td>88.750000</td>\n",
       "      <td>87.750000</td>\n",
       "      <td>111.829787</td>\n",
       "      <td>100.000000</td>\n",
       "      <td>...</td>\n",
       "      <td>1.000000</td>\n",
       "      <td>1.000000</td>\n",
       "      <td>1.000000</td>\n",
       "      <td>1.000000</td>\n",
       "      <td>0.000000</td>\n",
       "      <td>0.000000</td>\n",
       "      <td>0.000000</td>\n",
       "      <td>0.000000</td>\n",
       "      <td>0.000000</td>\n",
       "      <td>0.000000</td>\n",
       "    </tr>\n",
       "    <tr>\n",
       "      <th>50%</th>\n",
       "      <td>1.682704e+06</td>\n",
       "      <td>10.510000</td>\n",
       "      <td>58.031034</td>\n",
       "      <td>51.000000</td>\n",
       "      <td>49.000000</td>\n",
       "      <td>1.000000</td>\n",
       "      <td>106.000000</td>\n",
       "      <td>103.000000</td>\n",
       "      <td>111.829787</td>\n",
       "      <td>109.000000</td>\n",
       "      <td>...</td>\n",
       "      <td>1.000000</td>\n",
       "      <td>1.000000</td>\n",
       "      <td>1.000000</td>\n",
       "      <td>1.000000</td>\n",
       "      <td>0.000000</td>\n",
       "      <td>1.000000</td>\n",
       "      <td>0.000000</td>\n",
       "      <td>1.000000</td>\n",
       "      <td>0.000000</td>\n",
       "      <td>1.000000</td>\n",
       "    </tr>\n",
       "    <tr>\n",
       "      <th>75%</th>\n",
       "      <td>3.164980e+06</td>\n",
       "      <td>12.650000</td>\n",
       "      <td>64.250000</td>\n",
       "      <td>69.000000</td>\n",
       "      <td>66.250000</td>\n",
       "      <td>1.000000</td>\n",
       "      <td>116.000000</td>\n",
       "      <td>115.000000</td>\n",
       "      <td>111.829787</td>\n",
       "      <td>120.000000</td>\n",
       "      <td>...</td>\n",
       "      <td>1.000000</td>\n",
       "      <td>1.000000</td>\n",
       "      <td>1.000000</td>\n",
       "      <td>1.000000</td>\n",
       "      <td>1.000000</td>\n",
       "      <td>1.000000</td>\n",
       "      <td>0.000000</td>\n",
       "      <td>1.000000</td>\n",
       "      <td>0.000000</td>\n",
       "      <td>1.000000</td>\n",
       "    </tr>\n",
       "    <tr>\n",
       "      <th>max</th>\n",
       "      <td>9.922944e+06</td>\n",
       "      <td>20.450000</td>\n",
       "      <td>99.000000</td>\n",
       "      <td>90.000000</td>\n",
       "      <td>90.000000</td>\n",
       "      <td>1.000000</td>\n",
       "      <td>146.000000</td>\n",
       "      <td>137.000000</td>\n",
       "      <td>139.000000</td>\n",
       "      <td>144.000000</td>\n",
       "      <td>...</td>\n",
       "      <td>1.000000</td>\n",
       "      <td>1.000000</td>\n",
       "      <td>1.000000</td>\n",
       "      <td>1.000000</td>\n",
       "      <td>1.000000</td>\n",
       "      <td>1.000000</td>\n",
       "      <td>1.000000</td>\n",
       "      <td>1.000000</td>\n",
       "      <td>1.000000</td>\n",
       "      <td>1.000000</td>\n",
       "    </tr>\n",
       "  </tbody>\n",
       "</table>\n",
       "<p>8 rows × 22 columns</p>\n",
       "</div>"
      ],
      "text/plain": [
       "         scandir_id         age  adhd_index  inattentive  hyper_impulsive  \\\n",
       "count  4.160000e+02  416.000000  416.000000   416.000000       416.000000   \n",
       "mean   2.026904e+06   11.106058   58.031034    51.483173        50.939904   \n",
       "std    2.284620e+06    2.903479   12.562012    23.087048        22.844340   \n",
       "min    1.000100e+04    7.170000   40.000000     0.000000         0.000000   \n",
       "25%    1.011275e+04    8.750000   46.000000    42.000000        43.000000   \n",
       "50%    1.682704e+06   10.510000   58.031034    51.000000        49.000000   \n",
       "75%    3.164980e+06   12.650000   64.250000    69.000000        66.250000   \n",
       "max    9.922944e+06   20.450000   99.000000    90.000000        90.000000   \n",
       "\n",
       "       iq_measure   verbal_iq  performance_iq    full2_iq    full4_iq  ...  \\\n",
       "count  416.000000  416.000000      416.000000  416.000000  416.000000  ...   \n",
       "mean     0.807692   89.014423       86.617788  111.829787  109.689904  ...   \n",
       "std      0.394588   44.939797       43.800485    3.222899   13.590837  ...   \n",
       "min      0.000000    0.000000        0.000000   83.000000   73.000000  ...   \n",
       "25%      1.000000   88.750000       87.750000  111.829787  100.000000  ...   \n",
       "50%      1.000000  106.000000      103.000000  111.829787  109.000000  ...   \n",
       "75%      1.000000  116.000000      115.000000  111.829787  120.000000  ...   \n",
       "max      1.000000  146.000000      137.000000  139.000000  144.000000  ...   \n",
       "\n",
       "        qc_rest_2   qc_rest_3  qc_anatomical_1  qc_anatomical_2  \\\n",
       "count  416.000000  416.000000       416.000000       416.000000   \n",
       "mean     0.817308    0.944712         0.932692         0.975962   \n",
       "std      0.386879    0.228818         0.250856         0.153353   \n",
       "min      0.000000    0.000000         0.000000         0.000000   \n",
       "25%      1.000000    1.000000         1.000000         1.000000   \n",
       "50%      1.000000    1.000000         1.000000         1.000000   \n",
       "75%      1.000000    1.000000         1.000000         1.000000   \n",
       "max      1.000000    1.000000         1.000000         1.000000   \n",
       "\n",
       "       gender_Female  gender_Male  handedness_Left  handedness_Right  \\\n",
       "count     416.000000   416.000000       416.000000        416.000000   \n",
       "mean        0.396635     0.603365         0.021635          0.526442   \n",
       "std         0.489788     0.489788         0.145662          0.499902   \n",
       "min         0.000000     0.000000         0.000000          0.000000   \n",
       "25%         0.000000     0.000000         0.000000          0.000000   \n",
       "50%         0.000000     1.000000         0.000000          1.000000   \n",
       "75%         1.000000     1.000000         0.000000          1.000000   \n",
       "max         1.000000     1.000000         1.000000          1.000000   \n",
       "\n",
       "       adhd_measure_ CRS-3rd Edition  adhd_measure_CPRS-LV  \n",
       "count                     416.000000            416.000000  \n",
       "mean                        0.189904              0.697115  \n",
       "std                         0.392697              0.460059  \n",
       "min                         0.000000              0.000000  \n",
       "25%                         0.000000              0.000000  \n",
       "50%                         0.000000              1.000000  \n",
       "75%                         0.000000              1.000000  \n",
       "max                         1.000000              1.000000  \n",
       "\n",
       "[8 rows x 22 columns]"
      ]
     },
     "execution_count": 19,
     "metadata": {},
     "output_type": "execute_result"
    }
   ],
   "source": [
    "df1 = pd.DataFrame(df)\n",
    "df1.to_csv(r'/Users/vineelaaradhyula/Downloads/final_file.csv')\n",
    "# Summary of final data \n",
    "df1.describe()"
   ]
  },
  {
   "cell_type": "code",
   "execution_count": 5,
   "metadata": {
    "scrolled": true
   },
   "outputs": [
    {
     "name": "stdout",
     "output_type": "stream",
     "text": [
      "   Unnamed: 0  scandir_id  dx  adhd_index  inattentive  hyper_impulsive  \\\n",
      "0           0     2371032   0        47.0           55               43   \n",
      "1           1     2026113   1        90.0           89               78   \n",
      "2           2     3434578   0        42.0           42               43   \n",
      "3           3     8628223   0        42.0           49               49   \n",
      "4           4     1623716   1        87.0           90               90   \n",
      "\n",
      "   iq_measure  verbal_iq  performance_iq    full2_iq  ...  med_status  \\\n",
      "0           0        121             119  111.829787  ...           1   \n",
      "1           0        122             108  111.829787  ...           1   \n",
      "2           0         85              98  111.829787  ...           1   \n",
      "3           0         85              86  111.829787  ...           1   \n",
      "4           0         89              88  111.829787  ...           1   \n",
      "\n",
      "   qc_rest_1  qc_rest_2  qc_rest_3  qc_anatomical_1  qc_anatomical_2  \\\n",
      "0          1          1          1                1                1   \n",
      "1          1          1          1                1                1   \n",
      "2          1          1          1                1                1   \n",
      "3          1          1          1                1                1   \n",
      "4          1          1          1                1                1   \n",
      "\n",
      "   handedness_Left  handedness_Right  adhd_measure_ CRS-3rd Edition  \\\n",
      "0                0                 1                              0   \n",
      "1                0                 1                              0   \n",
      "2                0                 1                              0   \n",
      "3                0                 1                              0   \n",
      "4                0                 1                              0   \n",
      "\n",
      "   adhd_measure_CPRS-LV  \n",
      "0                     1  \n",
      "1                     1  \n",
      "2                     1  \n",
      "3                     1  \n",
      "4                     1  \n",
      "\n",
      "[5 rows x 21 columns]\n"
     ]
    }
   ],
   "source": [
    "# Model data importing\n",
    "Cldf=pd.read_csv(r'/Users/vineelaaradhyula/Downloads/final_file1.csv')\n",
    "print(Cldf.head(5))"
   ]
  },
  {
   "cell_type": "markdown",
   "metadata": {},
   "source": [
    "# Logistic Regression"
   ]
  },
  {
   "cell_type": "code",
   "execution_count": 6,
   "metadata": {},
   "outputs": [],
   "source": [
    "from sklearn.model_selection import train_test_split\n",
    "from sklearn.linear_model import LogisticRegression\n",
    "from sklearn.metrics import accuracy_score\n"
   ]
  },
  {
   "cell_type": "code",
   "execution_count": null,
   "metadata": {},
   "outputs": [],
   "source": [
    "X = Cldf1.iloc[:, 2:].values\n",
    "y = Cldf1.iloc[:, 1:2].values"
   ]
  },
  {
   "cell_type": "code",
   "execution_count": 23,
   "metadata": {},
   "outputs": [],
   "source": [
    "#spliting the dataset 70% to Train sample and 30% to Test sample\n",
    "from sklearn.model_selection import train_test_split\n",
    "X_train, X_test, y_train, y_test = train_test_split(X, y, test_size= 0.3)"
   ]
  },
  {
   "cell_type": "code",
   "execution_count": 24,
   "metadata": {},
   "outputs": [
    {
     "data": {
      "text/plain": [
       "LogisticRegression()"
      ]
     },
     "execution_count": 24,
     "metadata": {},
     "output_type": "execute_result"
    }
   ],
   "source": [
    "import warnings; warnings.simplefilter('ignore')\n",
    "from sklearn.linear_model import LogisticRegression\n",
    "classifier = LogisticRegression()\n",
    "classifier.fit(X_train, y_train)"
   ]
  },
  {
   "cell_type": "code",
   "execution_count": 25,
   "metadata": {},
   "outputs": [
    {
     "data": {
      "text/plain": [
       "array([0, 0, 0, 1, 0, 1, 0, 0, 1, 1, 3, 0, 1, 1, 0, 0, 1, 0, 0, 0, 0, 0,\n",
       "       1, 0, 0, 1, 0, 3, 0, 1, 0, 0, 0, 0, 0, 2, 3, 1, 0, 3, 0, 0, 0, 1,\n",
       "       3, 0, 0, 1, 1, 2, 3, 1, 0, 0, 1, 3, 0, 0, 1, 0, 0, 1, 0, 3, 1, 0,\n",
       "       1, 1, 0, 0, 1, 1, 0, 0, 0, 1, 0, 3, 1, 0, 0, 0, 3, 1, 1, 1, 0, 0,\n",
       "       0, 1, 0, 1, 1, 1, 0, 3, 0, 1, 3, 0, 0, 0, 0, 0, 3, 0, 0, 0, 0, 0,\n",
       "       0, 0, 0, 0, 2, 0, 0, 0, 0, 3, 1, 0, 3, 0, 1])"
      ]
     },
     "execution_count": 25,
     "metadata": {},
     "output_type": "execute_result"
    }
   ],
   "source": [
    "#predicting\n",
    "y_pred = classifier.predict(X_test)\n",
    "y_pred"
   ]
  },
  {
   "cell_type": "code",
   "execution_count": 26,
   "metadata": {},
   "outputs": [
    {
     "data": {
      "text/plain": [
       "array([[70,  1,  1,  0],\n",
       "       [ 0, 28,  2,  3],\n",
       "       [ 0,  1,  0,  0],\n",
       "       [ 2,  5,  0, 12]])"
      ]
     },
     "execution_count": 26,
     "metadata": {},
     "output_type": "execute_result"
    }
   ],
   "source": [
    "#confusion matrix\n",
    "from sklearn.metrics import confusion_matrix\n",
    "confusion_matrix(y_test, y_pred)"
   ]
  },
  {
   "cell_type": "code",
   "execution_count": 27,
   "metadata": {},
   "outputs": [
    {
     "name": "stdout",
     "output_type": "stream",
     "text": [
      "              precision    recall  f1-score   support\n",
      "\n",
      "           0       0.97      0.97      0.97        72\n",
      "           1       0.80      0.85      0.82        33\n",
      "           2       0.00      0.00      0.00         1\n",
      "           3       0.80      0.63      0.71        19\n",
      "\n",
      "    accuracy                           0.88       125\n",
      "   macro avg       0.64      0.61      0.63       125\n",
      "weighted avg       0.89      0.88      0.88       125\n",
      "\n"
     ]
    }
   ],
   "source": [
    "# classification Analysis\n",
    "import warnings; warnings.simplefilter('ignore')\n",
    "from sklearn.metrics import classification_report\n",
    "print(classification_report(y_test, y_pred))"
   ]
  },
  {
   "cell_type": "code",
   "execution_count": 28,
   "metadata": {},
   "outputs": [
    {
     "data": {
      "text/plain": [
       "array([[9.98022799e-01, 8.64765151e-04, 2.46948342e-04, 8.65487858e-04],\n",
       "       [9.99999999e-01, 7.49938265e-13, 4.61480398e-17, 9.77943834e-10],\n",
       "       [9.99547949e-01, 1.75750270e-04, 8.43243128e-08, 2.76216118e-04],\n",
       "       [4.24450844e-02, 6.27543067e-01, 1.15578129e-04, 3.29896271e-01],\n",
       "       [9.69354955e-01, 7.76325834e-03, 7.05810688e-07, 2.28810808e-02],\n",
       "       [2.48631700e-01, 5.01574658e-01, 2.09316790e-06, 2.49791549e-01],\n",
       "       [1.00000000e+00, 2.32433657e-14, 2.12084139e-16, 8.32159458e-11],\n",
       "       [9.81494902e-01, 1.50888290e-02, 9.09601589e-05, 3.32530835e-03],\n",
       "       [2.85670486e-04, 7.77946140e-01, 1.55248830e-04, 2.21612941e-01],\n",
       "       [4.21842480e-04, 6.90719237e-01, 1.94900392e-04, 3.08664020e-01],\n",
       "       [2.75078082e-06, 4.66384238e-01, 7.19144941e-08, 5.33612940e-01],\n",
       "       [1.00000000e+00, 1.42125806e-13, 6.06933043e-17, 4.14620218e-10],\n",
       "       [1.62883669e-02, 8.20959289e-01, 3.43968006e-04, 1.62408376e-01],\n",
       "       [2.69594562e-05, 8.98501742e-01, 7.14394644e-02, 3.00318343e-02],\n",
       "       [9.92845893e-01, 2.72397750e-03, 1.59816145e-07, 4.42996974e-03],\n",
       "       [4.99270446e-01, 4.90073574e-01, 2.31431706e-04, 1.04245486e-02],\n",
       "       [4.59050370e-04, 8.93935300e-01, 2.14244971e-03, 1.03463200e-01],\n",
       "       [9.98800891e-01, 3.38545051e-04, 6.12111734e-07, 8.59951724e-04],\n",
       "       [1.00000000e+00, 7.51445258e-14, 2.81051562e-16, 2.18425485e-10],\n",
       "       [9.98908242e-01, 7.96641685e-04, 1.14028408e-06, 2.93976126e-04],\n",
       "       [9.99214147e-01, 4.78356450e-04, 6.25250274e-07, 3.06871061e-04],\n",
       "       [9.97493952e-01, 4.49301857e-04, 1.44887254e-07, 2.05660142e-03],\n",
       "       [9.84054070e-03, 7.74572284e-01, 2.01733789e-01, 1.38533860e-02],\n",
       "       [1.00000000e+00, 1.88872299e-15, 6.28449501e-19, 8.29739804e-12],\n",
       "       [9.96634590e-01, 2.56922954e-03, 4.81599638e-06, 7.91364351e-04],\n",
       "       [1.04659409e-04, 9.06656468e-01, 2.13488560e-04, 9.30253836e-02],\n",
       "       [9.99204590e-01, 4.99205180e-04, 3.83062704e-06, 2.92373967e-04],\n",
       "       [7.86838104e-03, 3.63215880e-01, 1.08438199e-07, 6.28915630e-01],\n",
       "       [9.98297844e-01, 1.51066971e-04, 1.46141241e-06, 1.54962739e-03],\n",
       "       [5.36413333e-04, 9.50544137e-01, 1.67986103e-04, 4.87514633e-02],\n",
       "       [7.97036321e-01, 3.85883414e-02, 8.38578108e-05, 1.64291479e-01],\n",
       "       [9.98759549e-01, 8.38795362e-04, 1.54104175e-09, 4.01653649e-04],\n",
       "       [9.99701509e-01, 4.49688806e-05, 2.37202081e-06, 2.51149781e-04],\n",
       "       [9.97176316e-01, 3.56987025e-04, 3.26115041e-06, 2.46343603e-03],\n",
       "       [9.99620558e-01, 3.77403918e-05, 1.46409278e-06, 3.40237096e-04],\n",
       "       [2.19673824e-06, 6.72868735e-02, 9.32211911e-01, 4.99018774e-04],\n",
       "       [5.40479416e-04, 2.88872381e-01, 9.39553044e-06, 7.10577744e-01],\n",
       "       [8.61281760e-07, 6.86479597e-01, 5.92742789e-06, 3.13513614e-01],\n",
       "       [9.81253411e-01, 8.93705060e-03, 4.87068481e-06, 9.80466780e-03],\n",
       "       [2.22017298e-01, 1.64336256e-01, 5.31081416e-08, 6.13646393e-01],\n",
       "       [9.97934044e-01, 1.31538372e-03, 2.57560771e-05, 7.24815806e-04],\n",
       "       [9.98787049e-01, 4.86933886e-04, 1.49452700e-09, 7.26015289e-04],\n",
       "       [1.00000000e+00, 8.37067525e-14, 1.65928786e-15, 3.50057725e-10],\n",
       "       [2.36560515e-05, 7.25962871e-01, 8.64438241e-08, 2.74013386e-01],\n",
       "       [2.03523793e-01, 4.80676255e-02, 2.67219887e-07, 7.48408314e-01],\n",
       "       [9.98440070e-01, 8.10376544e-04, 3.73195425e-06, 7.45821793e-04],\n",
       "       [9.99066620e-01, 4.06106829e-04, 1.66031049e-05, 5.10669846e-04],\n",
       "       [4.04315252e-03, 8.18389698e-01, 7.69753584e-05, 1.77490174e-01],\n",
       "       [4.01806456e-06, 9.66364730e-01, 2.86691013e-07, 3.36309653e-02],\n",
       "       [2.68526303e-02, 3.17413678e-01, 6.37296675e-01, 1.84370168e-02],\n",
       "       [2.41265808e-04, 2.88789932e-01, 3.85412369e-09, 7.10968798e-01],\n",
       "       [6.81982729e-06, 9.68571928e-01, 4.43350103e-03, 2.69877514e-02],\n",
       "       [9.99029218e-01, 3.12599732e-04, 1.35970004e-06, 6.56822402e-04],\n",
       "       [4.83194642e-01, 1.68155216e-01, 6.15597549e-07, 3.48649526e-01],\n",
       "       [1.18946897e-04, 9.22675444e-01, 4.24485934e-02, 3.47570162e-02],\n",
       "       [8.58918937e-03, 3.93346788e-01, 6.15272379e-06, 5.98057870e-01],\n",
       "       [9.93155969e-01, 4.98072986e-04, 5.50050635e-07, 6.34540791e-03],\n",
       "       [9.98760493e-01, 6.26058944e-04, 5.84227782e-05, 5.55024897e-04],\n",
       "       [2.01307447e-07, 9.79921736e-01, 4.32785077e-03, 1.57502122e-02],\n",
       "       [6.05222606e-01, 1.74035298e-01, 1.74310780e-06, 2.20740353e-01],\n",
       "       [1.00000000e+00, 9.53205186e-14, 8.79020712e-16, 2.52608181e-10],\n",
       "       [1.31676863e-03, 5.33784956e-01, 5.05799611e-05, 4.64847696e-01],\n",
       "       [9.99278241e-01, 4.89953312e-04, 3.76565453e-06, 2.28040176e-04],\n",
       "       [3.07812458e-04, 3.80195895e-01, 1.44604175e-07, 6.19496148e-01],\n",
       "       [1.76383848e-03, 9.10266639e-01, 1.16986966e-03, 8.67996527e-02],\n",
       "       [9.99576068e-01, 4.66000620e-05, 4.82392890e-07, 3.76849186e-04],\n",
       "       [4.07399813e-01, 4.64697054e-01, 1.08104900e-03, 1.26822084e-01],\n",
       "       [6.99018641e-02, 5.35063725e-01, 3.68285543e-06, 3.95030728e-01],\n",
       "       [9.91507842e-01, 2.02468892e-03, 6.39250169e-05, 6.40354409e-03],\n",
       "       [9.98232629e-01, 8.09721949e-04, 4.00479001e-09, 9.57644831e-04],\n",
       "       [6.93416165e-02, 8.11514928e-01, 9.74404721e-06, 1.19133711e-01],\n",
       "       [1.05451072e-01, 7.38628985e-01, 7.61498695e-03, 1.48304955e-01],\n",
       "       [9.97096137e-01, 2.04222104e-03, 7.57646327e-06, 8.54065199e-04],\n",
       "       [9.99061433e-01, 2.51757273e-04, 2.20339133e-06, 6.84606681e-04],\n",
       "       [9.99211089e-01, 4.33809927e-04, 6.96257284e-09, 3.55094008e-04],\n",
       "       [3.81359872e-03, 7.88919443e-01, 1.03693499e-03, 2.06230023e-01],\n",
       "       [9.68839639e-01, 9.43355475e-03, 1.52932070e-08, 2.17267910e-02],\n",
       "       [3.23455013e-04, 4.85737480e-01, 2.08257139e-06, 5.13936983e-01],\n",
       "       [7.77329289e-02, 8.07945364e-01, 1.32013023e-05, 1.14308506e-01],\n",
       "       [9.99544809e-01, 1.96655831e-04, 5.91140591e-06, 2.52623789e-04],\n",
       "       [9.95712859e-01, 3.70039835e-03, 1.18685731e-06, 5.85555792e-04],\n",
       "       [9.98838320e-01, 3.97239814e-04, 1.64808521e-06, 7.62792115e-04],\n",
       "       [1.84752022e-04, 3.89920151e-01, 1.15411291e-04, 6.09779686e-01],\n",
       "       [2.45170528e-04, 9.07792930e-01, 4.97392578e-04, 9.14645064e-02],\n",
       "       [1.06571329e-02, 6.83985368e-01, 3.98361539e-04, 3.04959138e-01],\n",
       "       [3.53893066e-05, 9.53879432e-01, 6.95658237e-06, 4.60782226e-02],\n",
       "       [9.99315908e-01, 5.12299923e-05, 1.50693331e-07, 6.32711150e-04],\n",
       "       [9.96733604e-01, 3.30204767e-04, 2.69483116e-03, 2.41359981e-04],\n",
       "       [9.99360682e-01, 1.24502271e-04, 1.24553472e-06, 5.13570657e-04],\n",
       "       [1.93998319e-05, 8.76242747e-01, 1.58586986e-04, 1.23579266e-01],\n",
       "       [9.99029926e-01, 6.87000818e-04, 3.67526994e-06, 2.79397722e-04],\n",
       "       [4.06321678e-04, 9.27150847e-01, 6.75447512e-02, 4.89808065e-03],\n",
       "       [2.77667057e-04, 9.45892995e-01, 1.43520981e-05, 5.38149863e-02],\n",
       "       [7.26356464e-02, 6.98976961e-01, 9.21510430e-03, 2.19172288e-01],\n",
       "       [9.99237333e-01, 3.15243684e-04, 4.63755914e-05, 4.01047487e-04],\n",
       "       [1.13051815e-01, 6.58878801e-02, 9.55489768e-08, 8.21060209e-01],\n",
       "       [9.97809288e-01, 6.95980220e-04, 3.94441964e-09, 1.49472759e-03],\n",
       "       [5.84066417e-05, 9.87277649e-01, 1.45843860e-03, 1.12055054e-02],\n",
       "       [3.31104997e-01, 1.71913977e-01, 5.75148201e-07, 4.96980451e-01],\n",
       "       [9.98356438e-01, 8.95321428e-04, 9.77372984e-07, 7.47263464e-04],\n",
       "       [9.46942554e-01, 9.44247775e-03, 9.26320121e-06, 4.36057055e-02],\n",
       "       [9.99999999e-01, 1.91481478e-13, 1.51006829e-17, 6.16259499e-10],\n",
       "       [9.97939299e-01, 1.57942157e-03, 9.62213146e-08, 4.81182997e-04],\n",
       "       [1.00000000e+00, 2.57616527e-15, 2.53699565e-16, 1.31805445e-11],\n",
       "       [2.51755075e-01, 2.43533285e-01, 4.79368985e-05, 5.04663704e-01],\n",
       "       [1.00000000e+00, 8.86911429e-14, 3.58397425e-17, 4.61673223e-10],\n",
       "       [7.77279415e-01, 1.24765682e-01, 2.67232672e-05, 9.79281798e-02],\n",
       "       [1.00000000e+00, 8.46562750e-14, 2.87963286e-16, 3.75652673e-10],\n",
       "       [1.00000000e+00, 7.74891962e-15, 1.35138908e-16, 3.61971559e-11],\n",
       "       [9.94529344e-01, 1.89228981e-03, 1.74803922e-04, 3.40356244e-03],\n",
       "       [9.99999910e-01, 4.69487569e-11, 5.37647799e-14, 8.94760450e-08],\n",
       "       [9.96981402e-01, 1.61791518e-03, 8.42689427e-09, 1.40067425e-03],\n",
       "       [9.82315302e-01, 1.40025646e-02, 1.93754323e-04, 3.48837876e-03],\n",
       "       [7.43603686e-01, 1.30196880e-01, 8.84344783e-05, 1.26110999e-01],\n",
       "       [9.34076752e-04, 3.73411526e-03, 9.95148945e-01, 1.82863095e-04],\n",
       "       [9.97447540e-01, 1.80457148e-03, 4.55854320e-08, 7.47843027e-04],\n",
       "       [9.96738343e-01, 1.83054883e-03, 1.75883524e-07, 1.43093227e-03],\n",
       "       [9.97528381e-01, 8.11786824e-04, 1.46935777e-07, 1.65968496e-03],\n",
       "       [9.98006867e-01, 1.37227767e-03, 1.39171602e-05, 6.06938182e-04],\n",
       "       [2.98938400e-01, 6.33561054e-02, 2.37317712e-08, 6.37705471e-01],\n",
       "       [3.32368127e-05, 8.88802765e-01, 2.55085910e-02, 8.56554068e-02],\n",
       "       [1.00000000e+00, 1.18662840e-13, 2.99231852e-17, 2.23657395e-10],\n",
       "       [4.51914951e-02, 1.18149753e-01, 1.13865877e-06, 8.36657613e-01],\n",
       "       [9.99450039e-01, 2.67126057e-04, 1.98909905e-05, 2.62943726e-04],\n",
       "       [9.32907145e-04, 8.26935542e-01, 9.60564915e-02, 7.60750593e-02]])"
      ]
     },
     "execution_count": 28,
     "metadata": {},
     "output_type": "execute_result"
    }
   ],
   "source": [
    "#Prediction on test data\n",
    "classifier.predict_proba(X_test)"
   ]
  },
  {
   "cell_type": "code",
   "execution_count": 29,
   "metadata": {},
   "outputs": [
    {
     "data": {
      "text/plain": [
       "array([0, 0, 0, 1, 0, 1, 0, 0, 1, 1, 3, 0, 1, 1, 0, 0, 1, 0, 0, 0, 0, 0,\n",
       "       1, 0, 0, 1, 0, 3, 0, 1, 0, 0, 0, 0, 0, 2, 3, 1, 0, 3, 0, 0, 0, 1,\n",
       "       3, 0, 0, 1, 1, 2, 3, 1, 0, 0, 1, 3, 0, 0, 1, 0, 0, 1, 0, 3, 1, 0,\n",
       "       1, 1, 0, 0, 1, 1, 0, 0, 0, 1, 0, 3, 1, 0, 0, 0, 3, 1, 1, 1, 0, 0,\n",
       "       0, 1, 0, 1, 1, 1, 0, 3, 0, 1, 3, 0, 0, 0, 0, 0, 3, 0, 0, 0, 0, 0,\n",
       "       0, 0, 0, 0, 2, 0, 0, 0, 0, 3, 1, 0, 3, 0, 1])"
      ]
     },
     "execution_count": 29,
     "metadata": {},
     "output_type": "execute_result"
    }
   ],
   "source": [
    "classifier.predict(X_test)"
   ]
  },
  {
   "cell_type": "code",
   "execution_count": 30,
   "metadata": {},
   "outputs": [
    {
     "data": {
      "text/plain": [
       "array([[-2.10719137e-02,  9.24179061e-02,  1.17572471e-02,\n",
       "        -1.26320002e-01, -2.24418613e-01, -2.52856414e-02,\n",
       "         4.64864192e-02, -5.07554481e-02,  2.03779954e-01,\n",
       "        -1.74718816e-02,  1.33968496e-01,  1.22258859e-02,\n",
       "         4.92242689e-02, -7.13981478e-03,  9.52564262e-03,\n",
       "         1.03771487e-02,  4.89250516e-02, -4.71082601e-02,\n",
       "        -9.30599886e-04,  2.16669666e-02, -5.66966589e-04,\n",
       "         1.59356476e-03],\n",
       "       [ 5.02621514e-02, -1.31940002e-01, -7.05153877e-03,\n",
       "         1.39817620e-01,  2.02008130e-02,  3.73391072e-02,\n",
       "         6.18451668e-02, -5.15046578e-02, -4.40146217e-02,\n",
       "        -1.68249998e-02, -1.50202952e-01,  5.53783194e-02,\n",
       "        -3.73695744e-02,  5.55594268e-03,  2.36459947e-02,\n",
       "         1.94261880e-02, -8.28892397e-02,  8.24986620e-02,\n",
       "         1.11775005e-03, -4.04763394e-02, -6.46486340e-03,\n",
       "         6.46263584e-03],\n",
       "       [-1.80420501e-02, -1.01228295e-02, -7.34993646e-02,\n",
       "        -1.99093515e-01,  3.61547979e-01, -1.34512834e-02,\n",
       "        -1.61072599e-01,  1.55264359e-01, -1.50363027e-01,\n",
       "         6.88064018e-02, -5.06379331e-03, -3.42891677e-02,\n",
       "        -1.52907541e-02, -2.08590030e-02,  3.35126103e-03,\n",
       "        -6.12131997e-04,  1.15058053e-04, -1.45839985e-03,\n",
       "        -8.93586712e-04,  1.15263025e-02,  5.48946825e-04,\n",
       "        -1.71323786e-03],\n",
       "       [-1.11481875e-02,  4.96449254e-02,  6.87936563e-02,\n",
       "         1.85595897e-01, -1.57330179e-01,  1.39781751e-03,\n",
       "         5.27410130e-02, -5.30042527e-02, -9.40230514e-03,\n",
       "        -3.45095203e-02,  2.12982493e-02, -3.33150377e-02,\n",
       "         3.43605966e-03,  2.24428751e-02, -3.65228983e-02,\n",
       "        -2.91912048e-02,  3.38491300e-02, -3.39320021e-02,\n",
       "         7.06436543e-04,  7.28307029e-03,  6.48288316e-03,\n",
       "        -6.34296273e-03]])"
      ]
     },
     "execution_count": 30,
     "metadata": {},
     "output_type": "execute_result"
    }
   ],
   "source": [
    "classifier.coef_"
   ]
  },
  {
   "cell_type": "code",
   "execution_count": 41,
   "metadata": {},
   "outputs": [
    {
     "name": "stdout",
     "output_type": "stream",
     "text": [
      "Accuracy score using Logistic Regression is 0.88\n"
     ]
    }
   ],
   "source": [
    "from sklearn import metrics\n",
    "y_pred = classifier.predict(X_test)\n",
    "print(\"Accuracy score using Logistic egression is %s\" %metrics.accuracy_score(y_test, y_pred))"
   ]
  },
  {
   "cell_type": "markdown",
   "metadata": {},
   "source": [
    "# Decision Tree Classifier"
   ]
  },
  {
   "cell_type": "code",
   "execution_count": 34,
   "metadata": {},
   "outputs": [
    {
     "data": {
      "text/plain": [
       "DecisionTreeClassifier(min_samples_split=30)"
      ]
     },
     "execution_count": 34,
     "metadata": {},
     "output_type": "execute_result"
    }
   ],
   "source": [
    "from sklearn.tree import DecisionTreeClassifier\n",
    "classifier1 = DecisionTreeClassifier(min_samples_split=30,)\n",
    "classifier1.fit(X_train, y_train)"
   ]
  },
  {
   "cell_type": "code",
   "execution_count": 35,
   "metadata": {},
   "outputs": [
    {
     "data": {
      "text/plain": [
       "array([0, 0, 0, 1, 0, 3, 0, 0, 1, 3, 1, 0, 1, 1, 0, 1, 1, 0, 0, 0, 0, 0,\n",
       "       0, 0, 0, 1, 0, 1, 0, 3, 3, 0, 0, 0, 0, 3, 1, 1, 0, 3, 0, 0, 0, 1,\n",
       "       3, 0, 0, 1, 1, 1, 1, 1, 0, 3, 3, 3, 0, 0, 1, 3, 0, 1, 0, 1, 1, 0,\n",
       "       0, 3, 0, 0, 1, 0, 0, 0, 0, 1, 0, 1, 1, 0, 0, 0, 1, 1, 1, 1, 0, 0,\n",
       "       0, 1, 0, 1, 1, 1, 0, 3, 0, 1, 3, 0, 0, 0, 0, 0, 3, 0, 0, 0, 0, 0,\n",
       "       0, 0, 0, 3, 1, 0, 0, 0, 0, 3, 3, 0, 3, 0, 1])"
      ]
     },
     "execution_count": 35,
     "metadata": {},
     "output_type": "execute_result"
    }
   ],
   "source": [
    "y_pred = classifier1.predict(X_test)\n",
    "y_pred"
   ]
  },
  {
   "cell_type": "code",
   "execution_count": 37,
   "metadata": {},
   "outputs": [
    {
     "data": {
      "text/plain": [
       "array([[68,  2,  0,  2],\n",
       "       [ 1, 25,  0,  7],\n",
       "       [ 0,  1,  0,  0],\n",
       "       [ 1,  8,  0, 10]])"
      ]
     },
     "execution_count": 37,
     "metadata": {},
     "output_type": "execute_result"
    }
   ],
   "source": [
    "#confusion matrix\n",
    "from sklearn.metrics import confusion_matrix\n",
    "confusion_matrix(y_test, y_pred)"
   ]
  },
  {
   "cell_type": "code",
   "execution_count": 38,
   "metadata": {},
   "outputs": [
    {
     "name": "stdout",
     "output_type": "stream",
     "text": [
      "              precision    recall  f1-score   support\n",
      "\n",
      "           0       0.97      0.94      0.96        72\n",
      "           1       0.69      0.76      0.72        33\n",
      "           2       0.00      0.00      0.00         1\n",
      "           3       0.53      0.53      0.53        19\n",
      "\n",
      "    accuracy                           0.82       125\n",
      "   macro avg       0.55      0.56      0.55       125\n",
      "weighted avg       0.82      0.82      0.82       125\n",
      "\n"
     ]
    }
   ],
   "source": [
    "# classification Analysis\n",
    "import warnings; warnings.simplefilter('ignore')\n",
    "from sklearn.metrics import classification_report\n",
    "print(classification_report(y_test, y_pred))"
   ]
  },
  {
   "cell_type": "code",
   "execution_count": 42,
   "metadata": {},
   "outputs": [
    {
     "name": "stdout",
     "output_type": "stream",
     "text": [
      "Accuracy score using Decission Trees is 0.824\n"
     ]
    }
   ],
   "source": [
    "from sklearn import metrics\n",
    "y_pred = classifier1.predict(X_test)\n",
    "print(\"Accuracy score using Decission Trees is %s\" %metrics.accuracy_score(y_test, y_pred))"
   ]
  },
  {
   "cell_type": "markdown",
   "metadata": {},
   "source": [
    "# Support Vector Machine Classifier"
   ]
  },
  {
   "cell_type": "code",
   "execution_count": 38,
   "metadata": {},
   "outputs": [
    {
     "data": {
      "text/plain": [
       "LinearSVC()"
      ]
     },
     "execution_count": 38,
     "metadata": {},
     "output_type": "execute_result"
    }
   ],
   "source": [
    "from sklearn.svm import LinearSVC\n",
    "classifier2 = LinearSVC()\n",
    "classifier2.fit(X_train, y_train)"
   ]
  },
  {
   "cell_type": "code",
   "execution_count": 39,
   "metadata": {},
   "outputs": [
    {
     "data": {
      "text/plain": [
       "array([0, 1, 0, 0, 0, 0, 0, 1, 0, 1, 3, 0, 1, 0, 3, 1, 0, 0, 1, 0, 0, 0,\n",
       "       1, 0, 0, 0, 0, 0, 3, 3, 1, 3, 3, 1, 0, 0, 0, 1, 0, 3, 0, 0, 0, 3,\n",
       "       0, 1, 0, 0, 0, 0, 3, 3, 3, 1, 0, 0, 3, 0, 0, 2, 1, 0, 0, 0, 3, 0,\n",
       "       1, 0, 1, 3, 0, 1, 1, 0, 0, 0, 0, 0, 0, 3, 3, 3, 0, 0, 3, 3, 0, 0,\n",
       "       3, 3, 3, 0, 3, 0, 3, 0, 0, 0, 0, 3, 0, 0, 1, 0, 3, 3, 1, 0, 0, 0,\n",
       "       0, 0, 0, 1, 0, 3, 1, 0, 0, 3, 0, 3, 0, 3, 0])"
      ]
     },
     "execution_count": 39,
     "metadata": {},
     "output_type": "execute_result"
    }
   ],
   "source": [
    "y_pred = classifier2.predict(X_test)\n",
    "y_pred"
   ]
  },
  {
   "cell_type": "code",
   "execution_count": 40,
   "metadata": {},
   "outputs": [
    {
     "data": {
      "text/plain": [
       "array([[70,  0,  0,  2],\n",
       "       [ 1, 17,  1, 17],\n",
       "       [ 0,  2,  0,  0],\n",
       "       [ 1,  2,  0, 12]])"
      ]
     },
     "execution_count": 40,
     "metadata": {},
     "output_type": "execute_result"
    }
   ],
   "source": [
    "#confusion matrix\n",
    "from sklearn.metrics import confusion_matrix\n",
    "confusion_matrix(y_test, y_pred)"
   ]
  },
  {
   "cell_type": "code",
   "execution_count": 41,
   "metadata": {},
   "outputs": [
    {
     "name": "stdout",
     "output_type": "stream",
     "text": [
      "              precision    recall  f1-score   support\n",
      "\n",
      "           0       0.97      0.97      0.97        72\n",
      "           1       0.81      0.47      0.60        36\n",
      "           2       0.00      0.00      0.00         2\n",
      "           3       0.39      0.80      0.52        15\n",
      "\n",
      "    accuracy                           0.79       125\n",
      "   macro avg       0.54      0.56      0.52       125\n",
      "weighted avg       0.84      0.79      0.79       125\n",
      "\n"
     ]
    }
   ],
   "source": [
    "# classification Analysis\n",
    "import warnings; warnings.simplefilter('ignore')\n",
    "from sklearn.metrics import classification_report\n",
    "print(classification_report(y_test, y_pred))"
   ]
  },
  {
   "cell_type": "code",
   "execution_count": 42,
   "metadata": {},
   "outputs": [
    {
     "name": "stdout",
     "output_type": "stream",
     "text": [
      "Accuracy score using SVClassifier is 0.792\n"
     ]
    }
   ],
   "source": [
    "from sklearn import metrics\n",
    "y_pred = classifier2.predict(X_test)\n",
    "print(\"Accuracy score using SVClassifier is %s\" %metrics.accuracy_score(y_test, y_pred))"
   ]
  },
  {
   "cell_type": "markdown",
   "metadata": {},
   "source": [
    "# Neural Network"
   ]
  },
  {
   "cell_type": "code",
   "execution_count": 43,
   "metadata": {},
   "outputs": [
    {
     "data": {
      "text/plain": [
       "MLPClassifier(hidden_layer_sizes=(13, 13, 13), max_iter=500)"
      ]
     },
     "execution_count": 43,
     "metadata": {},
     "output_type": "execute_result"
    }
   ],
   "source": [
    "from sklearn.preprocessing import StandardScaler\n",
    "scaler = StandardScaler()\n",
    "scaler.fit(X_train)\n",
    "StandardScaler(copy=True, with_mean=True, with_std=True)\n",
    "X_train = scaler.transform(X_train)\n",
    "X_test = scaler.transform(X_test)\n",
    "from sklearn.neural_network import MLPClassifier\n",
    "mlp = MLPClassifier(hidden_layer_sizes=(13,13,13),max_iter=500)\n",
    "mlp.fit(X_train,y_train)"
   ]
  },
  {
   "cell_type": "code",
   "execution_count": 44,
   "metadata": {},
   "outputs": [
    {
     "data": {
      "text/plain": [
       "array([0, 1, 0, 0, 0, 0, 0, 1, 0, 1, 1, 0, 3, 0, 1, 1, 0, 0, 1, 0, 0, 0,\n",
       "       1, 0, 0, 0, 0, 0, 3, 1, 1, 3, 1, 2, 0, 0, 0, 1, 3, 3, 0, 0, 0, 1,\n",
       "       0, 1, 0, 0, 0, 0, 3, 3, 3, 1, 0, 0, 3, 0, 0, 3, 1, 0, 0, 0, 1, 0,\n",
       "       1, 0, 1, 3, 0, 1, 1, 0, 0, 0, 0, 3, 0, 1, 1, 1, 0, 0, 1, 3, 0, 0,\n",
       "       1, 3, 1, 0, 1, 0, 3, 1, 0, 0, 0, 1, 3, 0, 1, 0, 3, 3, 1, 0, 0, 0,\n",
       "       0, 0, 0, 1, 0, 0, 1, 0, 0, 3, 3, 3, 0, 1, 0])"
      ]
     },
     "execution_count": 44,
     "metadata": {},
     "output_type": "execute_result"
    }
   ],
   "source": [
    "predictions = mlp.predict(X_test)\n",
    "predictions"
   ]
  },
  {
   "cell_type": "code",
   "execution_count": 45,
   "metadata": {},
   "outputs": [
    {
     "name": "stdout",
     "output_type": "stream",
     "text": [
      "[[68  0  0  4]\n",
      " [ 0 27  1  8]\n",
      " [ 0  2  0  0]\n",
      " [ 0  6  0  9]]\n",
      "              precision    recall  f1-score   support\n",
      "\n",
      "           0       1.00      0.94      0.97        72\n",
      "           1       0.77      0.75      0.76        36\n",
      "           2       0.00      0.00      0.00         2\n",
      "           3       0.43      0.60      0.50        15\n",
      "\n",
      "    accuracy                           0.83       125\n",
      "   macro avg       0.55      0.57      0.56       125\n",
      "weighted avg       0.85      0.83      0.84       125\n",
      "\n"
     ]
    }
   ],
   "source": [
    "from sklearn.metrics import classification_report,confusion_matrix\n",
    "print(confusion_matrix(y_test,predictions))\n",
    "print(classification_report(y_test,predictions))"
   ]
  },
  {
   "cell_type": "code",
   "execution_count": 46,
   "metadata": {},
   "outputs": [
    {
     "name": "stdout",
     "output_type": "stream",
     "text": [
      "Accuracy score using NN is 0.832\n"
     ]
    }
   ],
   "source": [
    "from sklearn import metrics\n",
    "y_pred = mlp.predict(X_test)\n",
    "print(\"Accuracy score using NN is %s\" %metrics.accuracy_score(y_test, y_pred))"
   ]
  },
  {
   "cell_type": "markdown",
   "metadata": {},
   "source": [
    "# K-10 fold classification for all models for evaluation and their comparision"
   ]
  },
  {
   "cell_type": "code",
   "execution_count": 47,
   "metadata": {},
   "outputs": [],
   "source": [
    "import matplotlib.pyplot as plt\n",
    "from sklearn import model_selection\n",
    "from sklearn.linear_model import LogisticRegression\n",
    "from sklearn.tree import DecisionTreeClassifier\n",
    "from sklearn.svm import SVC\n",
    "from sklearn.neural_network import MLPClassifier\n",
    "# load dataset\n",
    "X = Cldf.iloc[:, 2:].values\n",
    "Y = Cldf.iloc[:, 1:2].values\n"
   ]
  },
  {
   "cell_type": "code",
   "execution_count": 48,
   "metadata": {},
   "outputs": [
    {
     "name": "stdout",
     "output_type": "stream",
     "text": [
      "LR: 0.863298 (0.082833) [0.95238095 0.9047619  0.80952381 0.88095238 0.76190476 0.73809524\n",
      " 0.7804878  0.92682927 0.87804878 1.        ]\n",
      "CART: 0.815041 (0.100181) [0.9047619  0.85714286 0.69047619 0.78571429 0.83333333 0.76190476\n",
      " 0.63414634 0.87804878 0.80487805 1.        ]\n",
      "SVM: 0.814925 (0.100448) [0.9047619  0.92857143 0.73809524 0.85714286 0.78571429 0.66666667\n",
      " 0.70731707 0.75609756 0.80487805 1.        ]\n",
      "NN: 0.867828 (0.063171) [0.9047619  0.9047619  0.9047619  0.88095238 0.78571429 0.80952381\n",
      " 0.80487805 0.87804878 0.80487805 1.        ]\n"
     ]
    },
    {
     "data": {
      "image/png": "[encoded data removed]",
      "text/plain": [
       "<Figure size 432x288 with 1 Axes>"
      ]
     },
     "metadata": {
      "needs_background": "light"
     },
     "output_type": "display_data"
    }
   ],
   "source": [
    "import warnings; warnings.simplefilter('ignore')\n",
    "# prepare configuration for cross validation test\n",
    "seed = 7\n",
    "# prepare models\n",
    "models = []\n",
    "models.append(('LR', LogisticRegression()))\n",
    "models.append(('CART', DecisionTreeClassifier()))\n",
    "models.append(('SVM', SVC()))\n",
    "models.append(('NN', MLPClassifier()))\n",
    "# evaluate each model\n",
    "results = []\n",
    "names = []\n",
    "scoring = 'accuracy'\n",
    "for name, model in models:\n",
    "    kfold = model_selection.KFold(n_splits=10, random_state=seed)\n",
    "    cv_results = model_selection.cross_val_score(model, X, Y, cv=kfold, scoring=scoring)\n",
    "    results.append(cv_results)\n",
    "    names.append(name)\n",
    "    msg = \"%s: %f (%f)\" % (name, cv_results.mean(), cv_results.std())\n",
    "    print(msg,cv_results)\n",
    "# boxplot algorithm comparison\n",
    "fig = plt.figure()\n",
    "fig.suptitle('Algorithm Comparison')\n",
    "ax = fig.add_subplot(111)\n",
    "plt.boxplot(results)\n",
    "ax.set_xticklabels(names)\n",
    "plt.show()"
   ]
  },
  {
   "cell_type": "markdown",
   "metadata": {},
   "source": [
    "# Disparity Analysis"
   ]
  },
  {
   "cell_type": "code",
   "execution_count": 24,
   "metadata": {},
   "outputs": [],
   "source": [
    "import seaborn as sns\n",
    "import matplotlib.pyplot as plt\n",
    "def categorical_summarized(dataframe, x=None, y=None, hue=None, palette='Set1', verbose=True):\n",
    "    '''\n",
    "    Helper function that gives a quick summary of a given column of categorical data\n",
    "    Arguments\n",
    "    =========\n",
    "    dataframe: pandas dataframe\n",
    "    x: str. horizontal axis to plot the labels of categorical data, y would be the count\n",
    "    y: str. vertical axis to plot the labels of categorical data, x would be the count\n",
    "    hue: str. if you want to compare it another variable (usually the target variable)\n",
    "    palette: array-like. Colour of the plot\n",
    "    Returns\n",
    "    =======\n",
    "    Quick Stats of the data and also the count plot\n",
    "    '''\n",
    "    if x == None:\n",
    "        column_interested = y\n",
    "    else:\n",
    "        column_interested = x\n",
    "    series = dataframe[column_interested]\n",
    "    print(series.describe())\n",
    "    print('mode: ', series.mode())\n",
    "    if verbose:\n",
    "        print('='*80)\n",
    "        print(series.value_counts())\n",
    "        \n",
    "    sns.countplot(x=x, y=y, hue=hue, data=dataframe, palette=palette)\n",
    "    plt.show()"
   ]
  },
  {
   "cell_type": "code",
   "execution_count": 25,
   "metadata": {},
   "outputs": [
    {
     "name": "stdout",
     "output_type": "stream",
     "text": [
      "count     416\n",
      "unique      4\n",
      "top       NYU\n",
      "freq      210\n",
      "Name: location, dtype: object\n",
      "mode:  0    NYU\n",
      "dtype: object\n",
      "================================================================================\n",
      "NYU           210\n",
      "KKI            80\n",
      "OHSU           79\n",
      "Pittsburgh     47\n",
      "Name: location, dtype: int64\n"
     ]
    },
    {
     "data": {
      "image/png": "[encoded data removed]",
      "text/plain": [
       "<Figure size 432x288 with 1 Axes>"
      ]
     },
     "metadata": {
      "needs_background": "light"
     },
     "output_type": "display_data"
    }
   ],
   "source": [
    "c_palette = ['tab:blue', 'tab:orange','tab:green','tab:red']\n",
    "categorical_summarized(df, y = 'location', palette=c_palette)"
   ]
  },
  {
   "cell_type": "code",
   "execution_count": 41,
   "metadata": {},
   "outputs": [
    {
     "name": "stdout",
     "output_type": "stream",
     "text": [
      "count                               416\n",
      "unique                                4\n",
      "top       Typically Developing Children\n",
      "freq                                238\n",
      "Name: dx, dtype: object\n",
      "mode:  0    Typically Developing Children\n",
      "dtype: object\n",
      "================================================================================\n",
      "Typically Developing Children    238\n",
      "ADHD-Combined                    115\n",
      "ADHD-Inattentive                  58\n",
      "ADHD-Hyperactive/Impulsive         5\n",
      "Name: dx, dtype: int64\n"
     ]
    },
    {
     "data": {
      "image/png": "[encoded data removed]",
      "text/plain": [
       "<Figure size 432x288 with 1 Axes>"
      ]
     },
     "metadata": {
      "needs_background": "light"
     },
     "output_type": "display_data"
    }
   ],
   "source": [
    "# Feature Variable: Location\n",
    "categorical_summarized(df, y = 'dx', hue='location', palette=c_palette)"
   ]
  },
  {
   "cell_type": "code",
   "execution_count": 26,
   "metadata": {},
   "outputs": [
    {
     "name": "stdout",
     "output_type": "stream",
     "text": [
      "count      416\n",
      "unique       2\n",
      "top       Male\n",
      "freq       251\n",
      "Name: gender, dtype: object\n",
      "mode:  0    Male\n",
      "dtype: object\n",
      "================================================================================\n",
      "Male      251\n",
      "Female    165\n",
      "Name: gender, dtype: int64\n"
     ]
    },
    {
     "data": {
      "image/png": "[encoded data removed]",
      "text/plain": [
       "<Figure size 432x288 with 1 Axes>"
      ]
     },
     "metadata": {
      "needs_background": "light"
     },
     "output_type": "display_data"
    }
   ],
   "source": [
    "# Feature Variable: Location-Gender\n",
    "categorical_summarized(df, y = 'gender', hue='location', palette=c_palette)"
   ]
  },
  {
   "cell_type": "code",
   "execution_count": 42,
   "metadata": {},
   "outputs": [
    {
     "name": "stdout",
     "output_type": "stream",
     "text": [
      "count                               416\n",
      "unique                                4\n",
      "top       Typically Developing Children\n",
      "freq                                238\n",
      "Name: dx, dtype: object\n",
      "mode:  0    Typically Developing Children\n",
      "dtype: object\n",
      "================================================================================\n",
      "Typically Developing Children    238\n",
      "ADHD-Combined                    115\n",
      "ADHD-Inattentive                  58\n",
      "ADHD-Hyperactive/Impulsive         5\n",
      "Name: dx, dtype: int64\n"
     ]
    },
    {
     "data": {
      "image/png": "[encoded data removed]",
      "text/plain": [
       "<Figure size 432x288 with 1 Axes>"
      ]
     },
     "metadata": {
      "needs_background": "light"
     },
     "output_type": "display_data"
    }
   ],
   "source": [
    "# Feature Variable: Gender\n",
    "categorical_summarized(df, y = 'dx', hue='gender', palette=c_palette)"
   ]
  },
  {
   "cell_type": "code",
   "execution_count": 28,
   "metadata": {},
   "outputs": [],
   "source": [
    "def quantitative_summarized(dataframe, x=None, y=None, hue=None, palette='Set1', ax=None, verbose=True, swarm=False):\n",
    "    '''\n",
    "    Helper function that gives a quick summary of quantattive data\n",
    "    Arguments\n",
    "    =========\n",
    "    dataframe: pandas dataframe\n",
    "    x: str. horizontal axis to plot the labels of categorical data (usually the target variable)\n",
    "    y: str. vertical axis to plot the quantitative data\n",
    "    hue: str. if you want to compare it another categorical variable (usually the target variable if x is another variable)\n",
    "    palette: array-like. Colour of the plot\n",
    "    swarm: if swarm is set to True, a swarm plot would be overlayed\n",
    "    Returns\n",
    "    =======\n",
    "    Quick Stats of the data and also the box plot of the distribution\n",
    "    '''\n",
    "    series = dataframe[y]\n",
    "    print(series.describe())\n",
    "    print('mode: ', series.mode())\n",
    "    if verbose:\n",
    "        print('='*80)\n",
    "        print(series.value_counts())\n",
    "\n",
    "    sns.boxplot(x=x, y=y, hue=hue, data=dataframe, palette=palette, ax=ax)\n",
    "\n",
    "    if swarm:\n",
    "        sns.swarmplot(x=x, y=y, hue=hue, data=dataframe,\n",
    "                      palette=palette, ax=ax)\n",
    "\n",
    "    plt.show()"
   ]
  },
  {
   "cell_type": "code",
   "execution_count": 30,
   "metadata": {},
   "outputs": [
    {
     "name": "stdout",
     "output_type": "stream",
     "text": [
      "count    416.000000\n",
      "mean      11.106058\n",
      "std        2.903479\n",
      "min        7.170000\n",
      "25%        8.750000\n",
      "50%       10.510000\n",
      "75%       12.650000\n",
      "max       20.450000\n",
      "Name: age, dtype: float64\n",
      "mode:  0    8.75\n",
      "1    9.17\n",
      "dtype: float64\n"
     ]
    },
    {
     "data": {
      "image/png": "[encoded data removed]",
      "text/plain": [
       "<Figure size 432x288 with 1 Axes>"
      ]
     },
     "metadata": {
      "needs_background": "light"
     },
     "output_type": "display_data"
    }
   ],
   "source": [
    "# univariate analysis\n",
    "quantitative_summarized(dataframe= df, y = 'age', palette=c_palette, verbose=False, swarm=True)"
   ]
  },
  {
   "cell_type": "code",
   "execution_count": 32,
   "metadata": {},
   "outputs": [
    {
     "name": "stdout",
     "output_type": "stream",
     "text": [
      "count    416.000000\n",
      "mean      11.106058\n",
      "std        2.903479\n",
      "min        7.170000\n",
      "25%        8.750000\n",
      "50%       10.510000\n",
      "75%       12.650000\n",
      "max       20.450000\n",
      "Name: age, dtype: float64\n",
      "mode:  0    8.75\n",
      "1    9.17\n",
      "dtype: float64\n"
     ]
    },
    {
     "data": {
      "image/png": "[encoded data removed]",
      "text/plain": [
       "<Figure size 432x288 with 1 Axes>"
      ]
     },
     "metadata": {
      "needs_background": "light"
     },
     "output_type": "display_data"
    }
   ],
   "source": [
    "# bivariate analysis with target variable\n",
    "quantitative_summarized(dataframe= df, y = 'age', x = 'location', palette=c_palette, verbose=False, swarm=True)"
   ]
  },
  {
   "cell_type": "code",
   "execution_count": 43,
   "metadata": {},
   "outputs": [
    {
     "data": {
      "text/plain": [
       "location\n",
       "KKI           10.205500\n",
       "NYU           11.441238\n",
       "OHSU           8.831139\n",
       "Pittsburgh    14.965106\n",
       "Name: age, dtype: float64"
      ]
     },
     "execution_count": 43,
     "metadata": {},
     "output_type": "execute_result"
    }
   ],
   "source": [
    "c=df.groupby(\"location\")[\"age\"].mean()\n",
    "c"
   ]
  },
  {
   "cell_type": "code",
   "execution_count": 38,
   "metadata": {},
   "outputs": [
    {
     "data": {
      "text/plain": [
       "location\n",
       "KKI           0.192308\n",
       "NYU           0.504808\n",
       "OHSU          0.189904\n",
       "Pittsburgh    0.112981\n",
       "Name: age, dtype: float64"
      ]
     },
     "execution_count": 38,
     "metadata": {},
     "output_type": "execute_result"
    }
   ],
   "source": [
    "c / c.sum()"
   ]
  },
  {
   "cell_type": "code",
   "execution_count": null,
   "metadata": {},
   "outputs": [],
   "source": []
  }
 ],
 "metadata": {
  "kernelspec": {
   "display_name": "Python 3",
   "language": "python",
   "name": "python3"
  },
  "language_info": {
   "codemirror_mode": {
    "name": "ipython",
    "version": 3
   },
   "file_extension": ".py",
   "mimetype": "text/x-python",
   "name": "python",
   "nbconvert_exporter": "python",
   "pygments_lexer": "ipython3",
   "version": "3.8.3"
  }
 },
 "nbformat": 4,
 "nbformat_minor": 4
}
